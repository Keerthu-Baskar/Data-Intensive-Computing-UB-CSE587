{
 "cells": [
  {
   "cell_type": "markdown",
   "metadata": {},
   "source": [
    "# PREPROCESSING THE UNCLEAN DATA"
   ]
  },
  {
   "cell_type": "code",
   "execution_count": 244,
   "metadata": {},
   "outputs": [],
   "source": [
    "import nltk\n",
    "from nltk.corpus import stopwords \n",
    "from nltk.tokenize.treebank import TreebankWordDetokenizer\n",
    "from nltk.tokenize import word_tokenize\n",
    "from nltk.stem import WordNetLemmatizer\n",
    "import re"
   ]
  },
  {
   "cell_type": "code",
   "execution_count": 245,
   "metadata": {},
   "outputs": [],
   "source": [
    "with open(\"D:/keer/CSE587/LAB2/unprocessed data/twitter/soccer_data.txt\", \"r\") as ins:\n",
    "    array = []\n",
    "    for line in ins:\n",
    "        array.append(line)\n",
    "ins.close()\n"
   ]
  },
  {
   "cell_type": "code",
   "execution_count": 246,
   "metadata": {},
   "outputs": [],
   "source": [
    "\n",
    "ps= WordNetLemmatizer()\n",
    "arr1=[]\n",
    "stop_words = ['make','park','th','https','realdonaldtrump','tiger','day','great','amp','nba','editing','sydney','ko','la','khan','indian','matches','el','kim','n','go','en','fire','masters','government','times','assange','texas','tech','virginia','people','state','city','world','michigan','former','four','going','think','second','games','players','left','could','get','home','night','t','said','s','first','advertisement','last','one', 'two', 'year', 'would','three','time','supported','new','also','since','like','made','back','aaa','ourselves', 'hers', 'found','between', 'dure','augusta','yourself', 'but', 'again', 'there', 'about', 'once', 'during', 'out', 'very', 'having', 'with', 'they', 'own', 'an', 'be',\n",
    "     'some', 'for', 'do', 'its', 'yours','today','cave','vs','varsity','helped','thai', 'such', 'into', 'of', 'most', 'itself', 'other', 'off', 'is', 'am', 'or', 'who', 'as', 'from', 'him', 'each', 'the', 'themselves',\n",
    "      'until', 'below', 'are', 'we', 'these','sport','via','best', 'your', 'his', 'through', 'don', 'nor', 'me', 'were', 'her', 'more', 'himself', 'this', 'down', 'should', 'our', 'their', 'while', \n",
    "      'above', 'both', 'up', 'to', 'ours', 'had', 'she', 'all', 'no', 'when', 'at', 'any', 'before', 'them', 'same', 'and', 'been', 'have', 'in', 'will', 'on', 'does', 'yourselves',\n",
    "       'then', 'that', 'because', 'what', 'over', 'why', 'so', 'can', 'did', 'not', 'now', 'under', 'he', 'you', 'herself', 'has', 'just', 'where', 'too', 'only', 'myself', 'which',\n",
    "        'those', 'i', 'after', 'few', 'whom', 'being', 'good','us','if', 'theirs', 'my', 'against', 'a', 'by', 'doing', 'it', 'how', 'further', 'was', 'here', 'than', 'rt', 'de']\n",
    "for e in array:\n",
    "    input_str = e.lower()\n",
    "    result = re.sub(r'\\d+', '',input_str)\n",
    "    words=word_tokenize(result) \n",
    "    stemtext=[ps.lemmatize(word) for word in words]\n",
    "    stemtext=TreebankWordDetokenizer().detokenize(stemtext)\n",
    "    tokens=word_tokenize(result) \n",
    "    punctext=[word for word in tokens if word.isalpha()]\n",
    "    punctext=TreebankWordDetokenizer().detokenize(punctext)\n",
    "    tokenspstop=word_tokenize(punctext) \n",
    "    lasttext=[w for w in tokenspstop if not w in stop_words]\n",
    "    lasttext=TreebankWordDetokenizer().detokenize(lasttext)\n",
    "    arr1.append(lasttext)\n",
    "    \n",
    "    "
   ]
  },
  {
   "cell_type": "code",
   "execution_count": 247,
   "metadata": {},
   "outputs": [],
   "source": [
    "str1 ='\\n'.join(w for w in arr1)\n",
    "#print(str1)"
   ]
  },
  {
   "cell_type": "code",
   "execution_count": 248,
   "metadata": {},
   "outputs": [],
   "source": [
    "text_file = open(\"D:/keer/CSE587/LAB2/unprocessed data/twitter/twittersubtopic5.txt\", \"w\",encoding=\"utf8\")\n",
    "text_file.write(str1)\n",
    "text_file.close()"
   ]
  },
  {
   "cell_type": "code",
   "execution_count": null,
   "metadata": {},
   "outputs": [],
   "source": []
  }
 ],
 "metadata": {
  "kernelspec": {
   "display_name": "Python 3",
   "language": "python",
   "name": "python3"
  },
  "language_info": {
   "codemirror_mode": {
    "name": "ipython",
    "version": 3
   },
   "file_extension": ".py",
   "mimetype": "text/x-python",
   "name": "python",
   "nbconvert_exporter": "python",
   "pygments_lexer": "ipython3",
   "version": "3.7.0"
  }
 },
 "nbformat": 4,
 "nbformat_minor": 2
}
