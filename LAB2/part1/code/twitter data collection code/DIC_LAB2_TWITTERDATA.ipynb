{
 "cells": [
  {
   "cell_type": "code",
   "execution_count": 3,
   "metadata": {},
   "outputs": [],
   "source": [
    "library(twitteR)\n",
    "library(ROAuth)\n",
    "library(ggplot2)\n",
    "#library(ggmap)\n",
    "#library(maptools)\n",
    "consumer_key <- \"removed them here for security purpose\"\n",
    "consumer_secret <-removed them here for security purpose \"\"\n",
    "access_token <- \"-removed them here for security purpose\"\n",
    "access_secret <- \"removed them here for security purpose\"\n",
    "#register_google(key = \"removed them here for security purpose\")"
   ]
  },
  {
   "cell_type": "code",
   "execution_count": 4,
   "metadata": {
    "scrolled": true
   },
   "outputs": [
    {
     "name": "stdout",
     "output_type": "stream",
     "text": [
      "[1] \"Using direct authentication\"\n"
     ]
    },
    {
     "name": "stderr",
     "output_type": "stream",
     "text": [
      "Warning message in doRppAPICall(\"search/tweets\", n, params = params, retryOnRateLimit = retryOnRateLimit, :\n",
      "\"10000 tweets were requested but the API can only return 417\""
     ]
    }
   ],
   "source": [
    "setup_twitter_oauth(consumer_key, consumer_secret, access_token, access_secret)\n",
    "tweets_res <- searchTwitter(\"sports or sport\",n=10000,lang=\"en\",geocode=\"40.482405,-97.413745,2280mi\",since=\"2019-01-01\")\n",
    "tweets.df <- twListToDF(tweets_res)\n",
    "tweets.df <- tweets.df[((tweets.df$isRetweet == FALSE)),]\n",
    "twitter_users <- lookupUsers(users = tweets.df$screenName, includeNA = TRUE)\n",
    "twitter_users.df <- twListToDF(twitter_users)\n",
    "tweets.df$location <- twitter_users.df$location[match(tweets.df$screenName, twitter_users.df$screenName)]\n",
    "tweets.df <- tweets.df[!(is.na(tweets.df$location) | (tweets.df$location == \"\")),]"
   ]
  },
  {
   "cell_type": "code",
   "execution_count": 149,
   "metadata": {},
   "outputs": [
    {
     "data": {
      "text/html": [
       "<ol class=list-inline>\n",
       "\t<li>256</li>\n",
       "\t<li>17</li>\n",
       "</ol>\n"
      ],
      "text/latex": [
       "\\begin{enumerate*}\n",
       "\\item 256\n",
       "\\item 17\n",
       "\\end{enumerate*}\n"
      ],
      "text/markdown": [
       "1. 256\n",
       "2. 17\n",
       "\n",
       "\n"
      ],
      "text/plain": [
       "[1] 256  17"
      ]
     },
     "metadata": {},
     "output_type": "display_data"
    }
   ],
   "source": [
    "dim(tweets.df)"
   ]
  },
  {
   "cell_type": "code",
   "execution_count": 150,
   "metadata": {},
   "outputs": [],
   "source": [
    "old_data <-data.frame(read.csv(\"Sports.csv\"))"
   ]
  },
  {
   "cell_type": "code",
   "execution_count": 151,
   "metadata": {},
   "outputs": [
    {
     "data": {
      "text/html": [
       "<ol class=list-inline>\n",
       "\t<li>256</li>\n",
       "\t<li>17</li>\n",
       "</ol>\n"
      ],
      "text/latex": [
       "\\begin{enumerate*}\n",
       "\\item 256\n",
       "\\item 17\n",
       "\\end{enumerate*}\n"
      ],
      "text/markdown": [
       "1. 256\n",
       "2. 17\n",
       "\n",
       "\n"
      ],
      "text/plain": [
       "[1] 256  17"
      ]
     },
     "metadata": {},
     "output_type": "display_data"
    }
   ],
   "source": [
    "final_data <- unique(rbind(tweets.df))\n",
    "write.csv(final_data, \"Sports.csv\", row.names = F )\n",
    "dim(final_data)"
   ]
  },
  {
   "cell_type": "code",
   "execution_count": 146,
   "metadata": {},
   "outputs": [],
   "source": [
    "last_data <-data.frame(read.csv(\"Sports.csv\"))\n",
    "last_data_r<-last_data[,c(1)]"
   ]
  },
  {
   "cell_type": "code",
   "execution_count": 83,
   "metadata": {},
   "outputs": [],
   "source": [
    "write.csv(last_data_r,\"final_data.txt\",row.names=F)"
   ]
  },
  {
   "cell_type": "code",
   "execution_count": null,
   "metadata": {},
   "outputs": [],
   "source": []
  }
 ],
 "metadata": {
  "kernelspec": {
   "display_name": "R",
   "language": "R",
   "name": "ir"
  },
  "language_info": {
   "codemirror_mode": "r",
   "file_extension": ".r",
   "mimetype": "text/x-r-source",
   "name": "R",
   "pygments_lexer": "r",
   "version": "3.5.1"
  }
 },
 "nbformat": 4,
 "nbformat_minor": 2
}
