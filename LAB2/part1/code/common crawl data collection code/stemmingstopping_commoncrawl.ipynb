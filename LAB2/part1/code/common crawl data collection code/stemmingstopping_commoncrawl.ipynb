{
 "cells": [
  {
   "cell_type": "code",
   "execution_count": 96,
   "metadata": {},
   "outputs": [],
   "source": [
    "import nltk\n",
    "from nltk.corpus import stopwords \n",
    "from nltk.tokenize.treebank import TreebankWordDetokenizer\n",
    "from nltk.tokenize import word_tokenize\n",
    "from nltk.stem import WordNetLemmatizer\n",
    "import re\n",
    "\n"
   ]
  },
  {
   "cell_type": "code",
   "execution_count": 97,
   "metadata": {},
   "outputs": [],
   "source": [
    "array = []\n",
    "with open(\"commoncrawlcombinedmod.txt\", \"r\",encoding=\"utf8\") as ins:\n",
    "    for line in ins:\n",
    "        array.append(line)\n",
    "ins.close()\n"
   ]
  },
  {
   "cell_type": "code",
   "execution_count": 98,
   "metadata": {},
   "outputs": [],
   "source": [
    "from nltk.corpus import wordnet\n",
    "ps= WordNetLemmatizer()\n",
    "arr1=[]\n",
    "stop_words = ['make','made','back','italia','des','aaa','l','en','la','us','price','regular','free','said','mit','den','said','le','mm','r','save','the','a','mar','apr','I','college','px','p','th','special','fr','der','may','and','of','ourselves', 'hers', 'found','between', 'dure','augusta','yourself', 'but', 'again', 'there', 'about', 'once', 'during', 'out', 'very', 'having', 'with', 'they', 'own', 'an', 'be',\n",
    "     'some', 'for', 'les','un','info','first','il','d','pour','y','est','also','el','two','o','do', 'its', 'yours', 'such', 'e','jv','die','feb','into', 'of', 'most', 'itself', 'other', 'off', 'is', 'am', 'or', 'who', 'as', 'from', 'him', 'each', 'the', 'themselves',\n",
    "      'until', 'below','v','s','amp','t','like','wilts','ov','new','club','one', 'are', 'we', 'these', 'your', 'his', 'through', 'don', 'nor', 'me', 'were', 'her', 'more', 'himself', 'this', 'down', 'should', 'our', 'their', 'while', \n",
    "      'above', 'both', 'up', 'available','to','sports','ours', 'had', 'she', 'all', 'get','end','today','good','time','know','no', 'when', 'at', 'any', 'before', 'them', 'same', 'and', 'been', 'have', 'in', 'will', 'on', 'does', 'yourselves',\n",
    "       'then', 'that', 'because','theantiantizio', 'what', 'over', 'why', 'so', 'can', 'did', 'not', 'now', 'under', 'he', 'you', 'herself', 'has', 'just', 'where', 'too', 'only', 'myself', 'which',\n",
    "        'those', 'i','https','to','in','rv','at','se','das','zu','na','please','email','you','w', 'after', 'few', 'whom', 'being', 'if', 'theirs', 'my', 'against', 'a', 'by', 'doing', 'it', 'how', 'further', 'was', 'here', 'than', 'rt', 'de']\n",
    "for e in array:\n",
    "    input_str = e.lower()\n",
    "    result = re.sub(r'\\d+', '',input_str)\n",
    "    wordst=word_tokenize(result) \n",
    "    engtext=[w for w in wordst if  wordnet.synsets(str(w))]\n",
    "    engtext=TreebankWordDetokenizer().detokenize(engtext)\n",
    "    wordsste=word_tokenize(engtext) \n",
    "    stemtext=[ps.lemmatize(word) for word in wordsste]\n",
    "    stemtext=TreebankWordDetokenizer().detokenize(stemtext)\n",
    "    tokens=word_tokenize(stemtext) \n",
    "    punctext=[word for word in tokens if word.isalpha()]\n",
    "    punctext=TreebankWordDetokenizer().detokenize(punctext)\n",
    "    tokenspstop=word_tokenize(punctext) \n",
    "    lasttext=[w for w in tokenspstop if not w in stop_words]\n",
    "    lasttext=TreebankWordDetokenizer().detokenize(lasttext)\n",
    "    arr1.append(lasttext)\n",
    "    \n",
    "    "
   ]
  },
  {
   "cell_type": "code",
   "execution_count": 99,
   "metadata": {},
   "outputs": [],
   "source": [
    "str1 ='\\n'.join(w for w in arr1)\n"
   ]
  },
  {
   "cell_type": "code",
   "execution_count": 100,
   "metadata": {},
   "outputs": [],
   "source": [
    "text_file = open(\"commoncrawlcombinedmod.txt\", \"w\",encoding=\"utf8\")\n",
    "text_file.write(str1)\n",
    "text_file.close()"
   ]
  },
  {
   "cell_type": "code",
   "execution_count": null,
   "metadata": {},
   "outputs": [],
   "source": []
  }
 ],
 "metadata": {
  "kernelspec": {
   "display_name": "Python 3",
   "language": "python",
   "name": "python3"
  },
  "language_info": {
   "codemirror_mode": {
    "name": "ipython",
    "version": 3
   },
   "file_extension": ".py",
   "mimetype": "text/x-python",
   "name": "python",
   "nbconvert_exporter": "python",
   "pygments_lexer": "ipython3",
   "version": "3.7.0"
  }
 },
 "nbformat": 4,
 "nbformat_minor": 2
}
