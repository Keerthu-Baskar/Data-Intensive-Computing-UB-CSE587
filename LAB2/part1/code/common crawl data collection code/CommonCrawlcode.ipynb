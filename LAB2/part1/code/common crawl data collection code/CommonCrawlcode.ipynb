{
 "cells": [
  {
   "cell_type": "code",
   "execution_count": 113,
   "metadata": {},
   "outputs": [],
   "source": [
    "from bs4 import BeautifulSoup  \n",
    "from urllib.request import urlopen\n",
    "#import urllib2\n",
    "import csv\n",
    "import time"
   ]
  },
  {
   "cell_type": "code",
   "execution_count": 114,
   "metadata": {},
   "outputs": [],
   "source": [
    "from warcio.archiveiterator import ArchiveIterator\n",
    "text=[]\n",
    "with open('CC-MAIN-20190319012213-20190319034213-00182.warc.gz', 'rb') as stream:\n",
    "    for record in ArchiveIterator(stream):\n",
    "        if record.rec_type == 'response':\n",
    "            text.append(record.rec_headers.get_header('WARC-Target-URI'))\n",
    "stream.close()"
   ]
  },
  {
   "cell_type": "code",
   "execution_count": 115,
   "metadata": {},
   "outputs": [
    {
     "data": {
      "text/plain": [
       "46436"
      ]
     },
     "execution_count": 115,
     "metadata": {},
     "output_type": "execute_result"
    }
   ],
   "source": [
    "len(text)"
   ]
  },
  {
   "cell_type": "code",
   "execution_count": 116,
   "metadata": {},
   "outputs": [],
   "source": [
    "text[0]='start'\n",
    "text=text[1:len(text)]\n",
    "keywords=['sport','sports','SPORT','SPORTS','SOCCER','soccer','CRICKET','cricket','GOLF','golf','BASKETBALL','basketball','football','FOOTBALL','N.B.A','N.F.L','n.b.a','n.f.l']"
   ]
  },
  {
   "cell_type": "code",
   "execution_count": 117,
   "metadata": {},
   "outputs": [
    {
     "data": {
      "text/plain": [
       "701"
      ]
     },
     "execution_count": 117,
     "metadata": {},
     "output_type": "execute_result"
    }
   ],
   "source": [
    "full_url=[]\n",
    "for i in text:\n",
    "    if any(x in i for x in keywords):\n",
    "        full_url.append(i)\n",
    "len(full_url)"
   ]
  },
  {
   "cell_type": "code",
   "execution_count": 118,
   "metadata": {},
   "outputs": [
    {
     "name": "stderr",
     "output_type": "stream",
     "text": [
      "C:\\Users\\Esther\\Anaconda3\\lib\\site-packages\\bs4\\__init__.py:181: UserWarning: No parser was explicitly specified, so I'm using the best available HTML parser for this system (\"lxml\"). This usually isn't a problem, but if you run this code on another system, or in a different virtual environment, it may use a different parser and behave differently.\n",
      "\n",
      "The code that caused this warning is on line 193 of the file C:\\Users\\Esther\\Anaconda3\\lib\\runpy.py. To get rid of this warning, change code that looks like this:\n",
      "\n",
      " BeautifulSoup(YOUR_MARKUP})\n",
      "\n",
      "to this:\n",
      "\n",
      " BeautifulSoup(YOUR_MARKUP, \"lxml\")\n",
      "\n",
      "  markup_type=markup_type))\n"
     ]
    }
   ],
   "source": [
    "import string\n",
    "data_content = []\n",
    "finalstripped=[]\n",
    "\n",
    "for data in full_url:\n",
    "    try:\n",
    "        html=urlopen(data)\n",
    "    except:\n",
    "        pass\n",
    "    r=html.read()\n",
    "    time.sleep(2)\n",
    "    #https://www.youtube.com/watch?v=zXif_9RVadI\n",
    "    soup = BeautifulSoup(r)\n",
    "    soupval = soup.findAll('p')\n",
    "    finaltext = \"\"\n",
    "    for values in soupval:\n",
    "        #https://stackoverflow.com/questions/43675635/adding-a-space-between-paragraphs-when-extracting-text-with-beautifulsoup\n",
    "        currenttext=values.getText(separator=\"\\n\", strip=True)\n",
    "        finaltext = finaltext +\"\\n\"+ currenttext\n",
    "   \n",
    "    data_content.append(finaltext)"
   ]
  },
  {
   "cell_type": "code",
   "execution_count": 119,
   "metadata": {},
   "outputs": [],
   "source": [
    "import pandas as pd\n",
    "df = pd.DataFrame(data_content)\n",
    "df.to_csv('commonsports1.txt',sep='\\t', index=False)"
   ]
  },
  {
   "cell_type": "code",
   "execution_count": null,
   "metadata": {},
   "outputs": [],
   "source": []
  }
 ],
 "metadata": {
  "kernelspec": {
   "display_name": "Python 3",
   "language": "python",
   "name": "python3"
  },
  "language_info": {
   "codemirror_mode": {
    "name": "ipython",
    "version": 3
   },
   "file_extension": ".py",
   "mimetype": "text/x-python",
   "name": "python",
   "nbconvert_exporter": "python",
   "pygments_lexer": "ipython3",
   "version": "3.7.0"
  }
 },
 "nbformat": 4,
 "nbformat_minor": 2
}
