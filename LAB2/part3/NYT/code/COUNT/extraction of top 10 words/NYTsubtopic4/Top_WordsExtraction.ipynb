{
 "cells": [
  {
   "cell_type": "markdown",
   "metadata": {},
   "source": [
    "# Extracting top 10 words after reducer"
   ]
  },
  {
   "cell_type": "code",
   "execution_count": 46,
   "metadata": {},
   "outputs": [],
   "source": [
    "import numpy as np\n",
    "import operator  \n",
    "\n",
    "with open(\"D:/keer/CSE587/LAB2/AWS reducer output/COOCCURANCE/TWITTER/Tmain/allfiles\", \"r\") as ins:\n",
    "    array = {}\n",
    "    for line in ins:\n",
    "        strsp=line.split()\n",
    "        array.update({strsp[0]:int(strsp[1])})\n",
    "ins.close()\n",
    "\n",
    "dc_sort = sorted(array.items(),key = operator.itemgetter(1),reverse = True) \n",
    "top10=dc_sort[:10]\n",
    "arr=[]\n",
    "for i in top10:  \n",
    "    arr1=i[0]+\" \"+str(i[1])\n",
    "    arr.append(arr1)\n"
   ]
  },
  {
   "cell_type": "code",
   "execution_count": 47,
   "metadata": {},
   "outputs": [
    {
     "name": "stdout",
     "output_type": "stream",
     "text": [
      "sports,team 788\n",
      "nfl,draft 744\n",
      "sports,betting 675\n",
      "sports,illustrated 669\n",
      "sports,talk 633\n",
      "sports,radio 519\n",
      "sports,teams 516\n",
      "sports,game 457\n",
      "nfl,schedule 447\n",
      "sports,fan 433\n"
     ]
    }
   ],
   "source": [
    "str1 ='\\n'.join(w for w in arr)\n",
    "print(str1)"
   ]
  },
  {
   "cell_type": "code",
   "execution_count": 48,
   "metadata": {},
   "outputs": [],
   "source": [
    "text_file = open(\"D:/keer/CSE587/LAB2/AWS reducer output/COOCCURANCE/TWITTER/Tmain/tableau.csv\", \"w\")\n",
    "text_file.write(str1)\n",
    "text_file.close()"
   ]
  },
  {
   "cell_type": "code",
   "execution_count": null,
   "metadata": {},
   "outputs": [],
   "source": []
  },
  {
   "cell_type": "code",
   "execution_count": null,
   "metadata": {},
   "outputs": [],
   "source": []
  }
 ],
 "metadata": {
  "kernelspec": {
   "display_name": "Python 3",
   "language": "python",
   "name": "python3"
  },
  "language_info": {
   "codemirror_mode": {
    "name": "ipython",
    "version": 3
   },
   "file_extension": ".py",
   "mimetype": "text/x-python",
   "name": "python",
   "nbconvert_exporter": "python",
   "pygments_lexer": "ipython3",
   "version": "3.7.0"
  }
 },
 "nbformat": 4,
 "nbformat_minor": 2
}
